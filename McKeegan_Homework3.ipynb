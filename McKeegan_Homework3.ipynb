{
 "cells": [
  {
   "cell_type": "markdown",
   "metadata": {},
   "source": [
    "# Jypyter Notebooks and Python Refresh Homework 3\n",
    "We are going to do the Python Refresh Homework in a juypyter Notebook. In this homework we will review the basic principles of python programming. You will work through a few questions and build some scripts. You will need the Bloom et al Dataset found in this repository. For each question add a cell to put your answer in either as a text cell or a code cell following the question.\n",
    "\n",
    "### Markdown\n",
    "Here is a [markdown refresh](https://programminghistorian.org/en/lessons/getting-started-with-markdown)\n",
    "\n",
    "### General concepts to refresh and lessons to review if you need them:\n",
    "\n",
    "Here is a nice [Python_Refresh](https://pythonforbiologists.com/introduction) that goes over the majority of the basic python commands.\n",
    "\n",
    "Remember these Primers from Last Semester\n",
    "\n",
    "[Python_Primer1](https://github.com/tparchman/BIOL792_course_site/blob/master/week6_pythonI/python_1_primer.md) \n",
    "\n",
    "[Lists_for_loops](https://github.com/tparchman/BIOL792_course_site/blob/master/week7_pythonII/python_2_primer.md)\n",
    "\n",
    "[Input_Output](https://github.com/tparchman/BIOL792_course_site/blob/master/week8_python3/python_3_primer.md)\n",
    "\n",
    "[Dictionaries](https://github.com/tparchman/BIOL792_course_site/blob/master/week11_python6/primer_python6.md)\n",
    "\n",
    "\n",
    "### Remember these Common commands as you work through this exercise\n",
    "\tdata types\n",
    "\tlists and dictionaries \n",
    "\tif while and for loops\n",
    "\treading files\n",
    "\n"
   ]
  },
  {
   "cell_type": "markdown",
   "metadata": {},
   "source": [
    "## Part I: Questions"
   ]
  },
  {
   "cell_type": "markdown",
   "metadata": {},
   "source": [
    "1.\tName one of the basic building blocks of programming and a small definition."
   ]
  },
  {
   "cell_type": "markdown",
   "metadata": {},
   "source": [
    "Flow control: How the program moves, or the order in which code is evaluated or executed (e.g., if & if/else statements; for loops). You can determine the order of processes by looping through files, setting conditions, etc."
   ]
  },
  {
   "cell_type": "markdown",
   "metadata": {},
   "source": [
    "2.\tMatch the data type to the appropriate data\n",
    "    \n",
    "    **Data type:** string, integer, boolean, floating point\n",
    "    \n",
    "    **Data:** true, 123, 'I am a programmer', 34.63221\n"
   ]
  },
  {
   "cell_type": "markdown",
   "metadata": {},
   "source": [
    "TRUE = Boolean\n",
    "\n",
    "123 = integer (or sometimes string! whoops haha)\n",
    "\n",
    "'I am trying to be a programmer' = string\n",
    "\n",
    "34.63221 = floating point"
   ]
  },
  {
   "cell_type": "markdown",
   "metadata": {},
   "source": [
    "3.\tWhat would I get if I did tried to add these to numbers together ```123``` and ```5```.\n",
    "\t\t\n",
    "\t\ta) if the numbers were formatted as strings\n",
    "\t\t\n",
    "\t\tb) if they were formatted as integers"
   ]
  },
  {
   "cell_type": "markdown",
   "metadata": {},
   "source": [
    "a) 1235\n",
    "\n",
    "b) 10"
   ]
  },
  {
   "cell_type": "markdown",
   "metadata": {},
   "source": [
    "4.\tLists, also called vectors, are one dimensional arrays and are a series of items. From the following list what would the question ```apple_list[3]``` return?  Remember we refer to items in a list by their position. Hint – remember how computers count.\n",
    "\t\t\n",
    "\t\t```apple_list=[‘banana’,’pear’,’kumquat’,’pomegranate’,’passion fruit’]```"
   ]
  },
  {
   "cell_type": "markdown",
   "metadata": {},
   "source": [
    "pomegranate"
   ]
  },
  {
   "cell_type": "markdown",
   "metadata": {},
   "source": [
    "5.\tName a difference between lists and dictionaries?"
   ]
  },
  {
   "cell_type": "markdown",
   "metadata": {},
   "source": [
    "Lists are ordered, or in other words we can call an item with its position in the array.\n",
    "\n",
    "Dictionaries, on the other hand, are unordered sets of keys & values, and can be multi-dimensional. We would call an item in a dictionary with its \"key.\""
   ]
  },
  {
   "cell_type": "markdown",
   "metadata": {},
   "source": [
    "6.\tWhat would you get from this question from the following dictionary:  ```apple_dict[‘pear’]```\n",
    "\t\t\n",
    "\t\tfruit_dict = {}\n",
    "\t\tfruit_dict[‘apple’]=10\n",
    "\t\tfruit_dict[‘pear’] = 3\n",
    "\t\tfruit_dict[‘walnut’]=216\n"
   ]
  },
  {
   "cell_type": "markdown",
   "metadata": {},
   "source": [
    "3\n",
    "Note to self: there are multiple ways to make a dictionary! This way works, also see 2b."
   ]
  },
  {
   "cell_type": "markdown",
   "metadata": {},
   "source": [
    "7.\tIn python what does the function ```.replace()``` do?"
   ]
  },
  {
   "cell_type": "code",
   "execution_count": 18,
   "metadata": {},
   "outputs": [
    {
     "data": {
      "text/plain": [
       "'I like oranges'"
      ]
     },
     "execution_count": 18,
     "metadata": {},
     "output_type": "execute_result"
    }
   ],
   "source": [
    "###It will replace a variable with another in a string. \n",
    "\n",
    "###For example:\n",
    "string = 'I like apples'\n",
    "string.replace('apples', 'oranges')\n",
    "###Should print the statement 'I like oranges'"
   ]
  },
  {
   "cell_type": "markdown",
   "metadata": {},
   "source": [
    "8.\tHow do you print something in python?  For example write a print statement to print “hello world!”"
   ]
  },
  {
   "cell_type": "code",
   "execution_count": 17,
   "metadata": {},
   "outputs": [
    {
     "name": "stdout",
     "output_type": "stream",
     "text": [
      "hello world!\n"
     ]
    }
   ],
   "source": [
    "print(\"hello world!\")\n",
    "###Much preferred to the shenanigans with echo in just the shell, in my humble opinion"
   ]
  },
  {
   "cell_type": "markdown",
   "metadata": {},
   "source": [
    "9.\tName one place you can go to get help with python?"
   ]
  },
  {
   "cell_type": "markdown",
   "metadata": {},
   "source": [
    "The Haddock & Dunn book: Practical Computing for Biologists\n",
    "Or our wonderful instructors & course GithHub repositories! Or Jahner & Trevor!"
   ]
  },
  {
   "cell_type": "markdown",
   "metadata": {},
   "source": [
    "10.\tWhat is an ```if``` statement and when would you use one?"
   ]
  },
  {
   "cell_type": "markdown",
   "metadata": {},
   "source": [
    "It is a conditional flow control method, which evaluates whatever comes after it and returns a Boolean (TRUE or FALSE), continuing to execute the commands if values match the criteria. This could be used when whenever you want to do something only to certain items, and is helpful while looping through lines or files. \n",
    "\n",
    "For example, the code:\n",
    "if L > 5:\n",
    "    print(\"L is bigger than 5\")\n",
    "Would print that statement for any items in the list that are greater than 5."
   ]
  },
  {
   "cell_type": "markdown",
   "metadata": {},
   "source": [
    "11.\tFrom this list:  ```container_list = [‘can’,’jar’,’hat’]``` What would be returned from this: ```container_list[0:2]```.  Hint: Remember one number is inclusive and one exclusive."
   ]
  },
  {
   "cell_type": "markdown",
   "metadata": {},
   "source": [
    "'can','jar'"
   ]
  },
  {
   "cell_type": "markdown",
   "metadata": {},
   "source": [
    "12.\tWhat is the difference between an ```if``` statement and a ```while``` loop?\n"
   ]
  },
  {
   "cell_type": "markdown",
   "metadata": {},
   "source": [
    "An if statement is a one-time decision which executes the command if the condition is met, while a while (haha) loop will continue to run the commands until the condition is no longer met. This might be incorrect, but I kind of think of \"while\" as the loop version of \"if.\""
   ]
  },
  {
   "cell_type": "markdown",
   "metadata": {},
   "source": [
    "13.\tWhat would you get with the command ```fruit_dict.keys()```  after entering this dictionary:  \n",
    "\t\tfruit_dict = {}\n",
    "\t\tfruit_dict[‘apple’]=10\n",
    "\t\tfruit_dict[‘pear’] = 3\n",
    "\t\tfruit_dict[‘walnut’]=216"
   ]
  },
  {
   "cell_type": "markdown",
   "metadata": {},
   "source": [
    "apple, pear, walnut\n",
    "\n",
    "Actually this is in a series of parentheses and brackets after fruit_dict but that gets wacky in markdown format."
   ]
  },
  {
   "cell_type": "markdown",
   "metadata": {},
   "source": [
    "14.\tIn this statement: ```InFileName = open(InFileName, ‘r’)``` what does the ‘r’ indicate ?"
   ]
  },
  {
   "cell_type": "markdown",
   "metadata": {},
   "source": [
    "\"Read,\" so the file will be opened only with read permissions."
   ]
  },
  {
   "cell_type": "markdown",
   "metadata": {},
   "source": [
    "15.\tWhat does this command do? ```Line.strip(‘\\n’)``` why would you use it when printing out lines to the screen?"
   ]
  },
  {
   "cell_type": "markdown",
   "metadata": {},
   "source": [
    "Removes line endings. This is useful so that there isn't any wacky text wrapping or other extraneous line breaks when printing or running through data."
   ]
  },
  {
   "cell_type": "markdown",
   "metadata": {},
   "source": [
    "16.\tHow would you split a line from a csv file into a list"
   ]
  },
  {
   "cell_type": "code",
   "execution_count": null,
   "metadata": {},
   "outputs": [],
   "source": [
    "for Line in filename:\n",
    "    Line = Line.strip('\\n') #removes line breaks\n",
    "    List = Line.split('\\t') #splits each line up by tabs to form a list\n",
    "###not sure if this what was being asked for, but I just ran with the word \"split\""
   ]
  },
  {
   "cell_type": "markdown",
   "metadata": {},
   "source": [
    "## Part II:  Practice Scripts\n",
    "Below each question write the name of the script so I can find them. All scripts should be documented with in-line documentation."
   ]
  },
  {
   "cell_type": "markdown",
   "metadata": {},
   "source": [
    "1.\tCreate a documented python script that would \n",
    "\n",
    "\t\t**a.** take this number 112345678911234566 and count the number of 2s in the string and print out the number. \n",
    "\n",
    "\t\t**b.** take a sentence from user input, turn it all to lowercase letters and remove the spaces and count the length and print out the length.  You choose the sentence. \n"
   ]
  },
  {
   "cell_type": "markdown",
   "metadata": {},
   "source": [
    "a) script name: number_of_2s.py"
   ]
  },
  {
   "cell_type": "code",
   "execution_count": 30,
   "metadata": {},
   "outputs": [
    {
     "name": "stdout",
     "output_type": "stream",
     "text": [
      "2\n"
     ]
    }
   ],
   "source": [
    "#!/usr/bin/env\n",
    "### not sure why the shebang worked here but not below, but whatever\n",
    "### this code will count the number of 2s in a number string \n",
    "### run from terminal with: $ python3 number_of_2s.py\n",
    "\n",
    "### first I'll make the string - alternatively this could be outside of the code, and run with: python3 number_of_2s.py num\n",
    "#string because I can't use .count with an integer\n",
    "num = str('112345678911234566') \n",
    "#not sure if there is another option?\n",
    "### print the number of the character '2' in the string 'num'\n",
    "print(num.count('2'))\n",
    "#there are 2 twos"
   ]
  },
  {
   "cell_type": "markdown",
   "metadata": {},
   "source": [
    "b) script name: lower_length.py"
   ]
  },
  {
   "cell_type": "code",
   "execution_count": 33,
   "metadata": {},
   "outputs": [
    {
     "name": "stdout",
     "output_type": "stream",
     "text": [
      "Write a sentence... with some capital letters of course:Hi Julie this is Kelli\n",
      "hijuliethisiskelli\n",
      "18\n"
     ]
    }
   ],
   "source": [
    "### code for taking a user-inputted sentence, making all lowercase & removing spaces\n",
    "### then counting number of characters & printing out length\n",
    "### comments above code\n",
    "\n",
    "# run from terminal with: python3 lower_length.py\n",
    "### playing with input so anyone can choose the sentence!\n",
    "sentence = input(\"Write a sentence... with some capital letters of course: \")\n",
    "### now making the sentence all lowercase - output to another string\n",
    "lowsent = sentence.lower()\n",
    "### using the replace function to remove spaces - essentially, replacing \" \" with nothing\n",
    "### again output to another string... not sure if that's necessary but it helps me\n",
    "lownospace = lowsent.replace(\" \",\"\")\n",
    "### print statement - can comment out after checking if it works\n",
    "print(lownospace)\n",
    "### now making a new variable that is the length of the sentence\n",
    "length = len(lownospace)\n",
    "### and finally printing \n",
    "print(length)\n",
    "### which is 18 for this sentence!\n",
    "\n",
    "#note: this wasn't working because I had shebangs in here. whoops\n",
    "#so I uploaded the script to my repo, which is when I was having git push problems...\n",
    "#which are now solved, but I had good practice adding directories and files to my repo\n",
    "#plus I learned about the lovely stop button! "
   ]
  },
  {
   "cell_type": "markdown",
   "metadata": {},
   "source": [
    "2.\tCreate a documented python script that will do the following two things. For each task, first write the pseudocode, comment out the pseudocode and beneath the pseudocode write the script.\n",
    "\n",
    "\t\t**a.** Create a list of numbers (any numbers you like). Then loop through the items in the list adding 1 to every number and print those numbers.\n",
    "\n",
    "\t\t**b.** Create a dictionary of animals and their sizes (make up whatever you want). Print out the keys of the dictionary. Make a list of all the animals and then write an if else statement to print out the animal name and the word “big” if the weight is over 20 grams and the word “small” if the weight is less than 20 grams. "
   ]
  },
  {
   "cell_type": "markdown",
   "metadata": {},
   "source": [
    "a) script name: num_add.py"
   ]
  },
  {
   "cell_type": "code",
   "execution_count": 38,
   "metadata": {},
   "outputs": [
    {
     "name": "stdout",
     "output_type": "stream",
     "text": [
      "[3, 13, 0, 4, 9]\n",
      "4\n",
      "14\n",
      "1\n",
      "5\n",
      "10\n"
     ]
    }
   ],
   "source": [
    "# shebang goes here... haha\n",
    "### this script will create a list of numbers, then loop through the list and add 1 to every number, then print\n",
    "### comments above related code\n",
    "### run from terminal with: python3 num_add.py\n",
    "\n",
    "### creating a list of numbers\n",
    "### doing this with random function, so must import first\n",
    "import random\n",
    "### generating 5 random numbers between the range of 0 to 15\n",
    "num_list = random.sample(range(0, 15), 5)\n",
    "print(num_list) #printing to see if it works - can comment out \n",
    "### will use a for loop to go through each item, or num, in the list\n",
    "for num in num_list:\n",
    "    ### for each number, going to add 1\n",
    "    num += 1\n",
    "    ### actually keeping the print statement above helps because we can see what the original numbers are\n",
    "    ### so when we print now, should get 5 numbers, all 1 more than the original\n",
    "    print(num)\n",
    "### fun times!!!"
   ]
  },
  {
   "cell_type": "markdown",
   "metadata": {},
   "source": [
    "b) script name: animal_size.py"
   ]
  },
  {
   "cell_type": "code",
   "execution_count": 44,
   "metadata": {},
   "outputs": [
    {
     "name": "stdout",
     "output_type": "stream",
     "text": [
      "dict_keys(['great wangdoodle', 'ungol', 'winged pig', 'crebain', 'kraken', 'unicorn', 'march hare'])\n",
      "great wangdoodle is large\n",
      "ungol is small\n",
      "winged pig is small\n",
      "crebain is small\n",
      "kraken is large\n",
      "unicorn is large\n",
      "march hare is small\n"
     ]
    }
   ],
   "source": [
    "# shebang goes here\n",
    "### this script will first make a dictionary of animals as keys, and sizes in grams as values\n",
    "### it will then determine whether the animals are big or small based on their size\n",
    "###comments above related code\n",
    "### run from terminal with: python3 animal_size.py\n",
    "\n",
    "### setting up the keys: values for the dictionary named animsz\n",
    "### note: the question asked for 20g as the cut-off, but my animals are all heckin lorge\n",
    "### MASS IN KILOGRAMS instead! Didn't want to deal with floats so all whole numbers\n",
    "animsz = {\n",
    "    'great wangdoodle': 910,\n",
    "    'ungol': 2,\n",
    "    'winged pig': 15,\n",
    "    'crebain': 3,\n",
    "    'kraken': 720,\n",
    "    'unicorn': 475,\n",
    "    'march hare': 5\n",
    "}\n",
    "### print the keys of the dictionary\n",
    "print(animsz.keys())\n",
    "### make a list with all the animal names, i.e., a list of keys\n",
    "animals = animsz.keys()\n",
    "### now going to loop through each item in the list of keys\n",
    "for anim in animals:\n",
    "    ### conditional statement, if the value for each animal is greater than 20 kg\n",
    "    if (animsz[anim] > 20):\n",
    "        ### print the phrase that that animal is heckin lorge\n",
    "        print(\"%s is large\" % (anim))\n",
    "    ### otherwise, so if the Boolean is FALSE orthe condition of >20kg is not met\n",
    "    else:\n",
    "        ### print the phrase that that animal is v smoll\n",
    "        print (\"%s is small\" % (anim))\n",
    "### end result will be a list of statements on the size of the animals!"
   ]
  },
  {
   "cell_type": "markdown",
   "metadata": {},
   "source": [
    "3.\tCreate a documented python script that will open up the file “Bloom_etal_2018_Reduced_Dataset”.  Read through the file and print out the taxon name and their diadromous status. Add up all of the log body sizes and print out the total log body size for all the individuals in the file.  "
   ]
  },
  {
   "cell_type": "code",
   "execution_count": 46,
   "metadata": {},
   "outputs": [
    {
     "data": {
      "text/plain": [
       "'/Users/kelli/BIOL792/part2_sp21/Data_Science_For_Biology_II/Part.II_PythonProgramming'"
      ]
     },
     "execution_count": 46,
     "metadata": {},
     "output_type": "execute_result"
    }
   ],
   "source": [
    "cd /"
   ]
  },
  {
   "cell_type": "code",
   "execution_count": 61,
   "metadata": {},
   "outputs": [
    {
     "name": "stdout",
     "output_type": "stream",
     "text": [
      "Alosa_alabamae diadromous\n",
      "Alosa_alosa diadromous\n",
      "Alosa_fallax diadromous\n",
      "Alosa_mediocris diadromous\n",
      "Alosa_pseudoharengus diadromous\n",
      "Alosa_sapidissima diadromous\n",
      "Amazonsprattus_scintilla non-diadromous\n",
      "Anchoa_chamensis non-diadromous\n",
      "Anchoa_cubana non-diadromous\n",
      "Anchoa_delicatissima non-diadromous\n",
      "Anchoa_lamprotaenia non-diadromous\n",
      "Anchoa_lyolepis non-diadromous\n",
      "Anchoa_parva non-diadromous\n",
      "Anchoa_schofieldi non-diadromous\n",
      "Anchovia_surinamensis non-diadromous\n",
      "Anchoviella_balboae non-diadromous\n",
      "Anchoviella_brevirostris non-diadromous\n",
      "Anchoviella_jamesi non-diadromous\n",
      "Anchoviella_lepidentostole diadromous\n",
      "Anchoviella_manamensis non-diadromous\n",
      "Anodontostoma_chacunda diadromous\n",
      "Cetengraulis_edentulus non-diadromous\n",
      "Chirocentrodon_bleekerianus non-diadromous\n",
      "Clupeichthys_perakensis non-diadromous\n",
      "Clupeoides_borneensis non-diadromous\n",
      "Coilia_nasus diadromous\n",
      "Ehirava_fluviatilis non-diadromous\n",
      "Encrasicholina_devisi non-diadromous\n",
      "Engraulis_eurystole non-diadromous\n",
      "Escualosa_thoracata non-diadromous\n",
      "Ethmalosa_fimbriata diadromous\n",
      "Gilchristella_aestuaria non-diadromous\n",
      "Hilsa_kelee diadromous\n",
      "Hyperlophus_vittatus non-diadromous\n",
      "Jenkinsia_lamprotaenia non-diadromous\n",
      "Microthrissa_congica non-diadromous\n",
      "Pellona_harroweri non-diadromous\n",
      "Pellonula_leonensis diadromous\n",
      "Pellonula_vorax diadromous\n",
      "Potamalosa_richmondia diadromous\n",
      "Ramnogaster_sp non-diadromous\n",
      "Rhinosardinia_bahiensis non-diadromous\n",
      "Sauvagella_robusta non-diadromous\n",
      "Sierrathrissa_leonensis non-diadromous\n",
      "Spratelloides_delicatulus non-diadromous\n",
      "Stolephorus_waitei non-diadromous\n",
      "Stolothrissa_tanganicae non-diadromous\n",
      "Sundasalanx_mekongensis non-diadromous\n",
      "Tenualosa_ilisha diadromous\n",
      "Thryssa_cf_dussumieri non-diadromous\n",
      "52.079318752000006\n"
     ]
    }
   ],
   "source": [
    "#shebang goes here!\n",
    "### this code will first open a file and print taxa names & diadromus statuses\n",
    "### then it will add up individual body sizes & print this total\n",
    "### comments above code\n",
    "### run from terminal with: python3 taxa_dia_size.py\n",
    "\n",
    "### hard code for opening the file - r is for read-only since that's all we need\n",
    "infile = open('Bloom_etal_2018_Reduced_Dataset.csv', 'r')\n",
    "### establishing an empty variable that I will populate with log body size\n",
    "#size = [] #this didn't work so that's why it's commented out - left in to see process of troubleshooting!\n",
    "### NOW establishing the variable of size as 0, will add each time we go through the loop\n",
    "size = 0\n",
    "infile.readline() ###skipping the 1st line because it is a header... not sure if necessary\n",
    "### because we are going to be dealing with stuff in each line, need a for loop\n",
    "for line in infile: \n",
    "### next it's a good idea to strip the line endings, then we want to split fields by comma\n",
    "    line = line.strip('\\n') #removes line endings\n",
    "    elements = line.split(',') #now a list, with elements separated\n",
    "    taxon = elements[0] #taxa are in first field, position 0\n",
    "    status = elements[3] #diadromous status is the last field, position 3\n",
    "    bodysize = float(elements[1]) #logbody size - making float so it doesn't read as string\n",
    "    print(taxon, status) #printing taxa names & status\n",
    "    #add the bodysize of each individual line to a running total... which isn't working\n",
    "    #size.append(bodysize) #seems to read the logbodysize as a string\n",
    "    #not working because the 1st line is a header I think\n",
    "    size += bodysize #but this didn't work either - prints each number. ahhh!\n",
    "    ### just kidding. we're good now. I had initialized the size variable at the beginning as a list\n",
    "    ### needed it to be 0, then this worked!\n",
    "print(size) #outside of the loop, should get one final total log body size\n",
    "### 52.08-ish!"
   ]
  },
  {
   "cell_type": "code",
   "execution_count": null,
   "metadata": {},
   "outputs": [],
   "source": []
  }
 ],
 "metadata": {
  "kernelspec": {
   "display_name": "Python 3",
   "language": "python",
   "name": "python3"
  },
  "language_info": {
   "codemirror_mode": {
    "name": "ipython",
    "version": 3
   },
   "file_extension": ".py",
   "mimetype": "text/x-python",
   "name": "python",
   "nbconvert_exporter": "python",
   "pygments_lexer": "ipython3",
   "version": "3.8.5"
  }
 },
 "nbformat": 4,
 "nbformat_minor": 4
}
